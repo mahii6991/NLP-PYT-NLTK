{
 "cells": [
  {
   "cell_type": "code",
   "execution_count": 1,
   "id": "37420d1a",
   "metadata": {},
   "outputs": [
    {
     "name": "stdout",
     "output_type": "stream",
     "text": [
      "showing info https://raw.githubusercontent.com/nltk/nltk_data/gh-pages/index.xml\n"
     ]
    },
    {
     "data": {
      "text/plain": [
       "True"
      ]
     },
     "execution_count": 1,
     "metadata": {},
     "output_type": "execute_result"
    }
   ],
   "source": [
    "#first downloading the nltk which is famous for the text analytics\n",
    "import nltk\n",
    "nltk.download()"
   ]
  },
  {
   "cell_type": "code",
   "execution_count": 2,
   "id": "2f907c85",
   "metadata": {
    "scrolled": false
   },
   "outputs": [
    {
     "name": "stdout",
     "output_type": "stream",
     "text": [
      "*** Introductory Examples for the NLTK Book ***\n",
      "Loading text1, ..., text9 and sent1, ..., sent9\n",
      "Type the name of the text or sentence to view it.\n",
      "Type: 'texts()' or 'sents()' to list the materials.\n",
      "text1: Moby Dick by Herman Melville 1851\n",
      "text2: Sense and Sensibility by Jane Austen 1811\n",
      "text3: The Book of Genesis\n",
      "text4: Inaugural Address Corpus\n",
      "text5: Chat Corpus\n",
      "text6: Monty Python and the Holy Grail\n",
      "text7: Wall Street Journal\n",
      "text8: Personals Corpus\n",
      "text9: The Man Who Was Thursday by G . K . Chesterton 1908\n"
     ]
    }
   ],
   "source": [
    "#uploading all the text form it\n",
    "from nltk.book import *"
   ]
  },
  {
   "cell_type": "code",
   "execution_count": 4,
   "id": "1154df35",
   "metadata": {},
   "outputs": [
    {
     "data": {
      "text/plain": [
       "<Text: Moby Dick by Herman Melville 1851>"
      ]
     },
     "execution_count": 4,
     "metadata": {},
     "output_type": "execute_result"
    }
   ],
   "source": [
    "#providing the simple argument to it to find the text of the dataset\n",
    "text1"
   ]
  },
  {
   "cell_type": "code",
   "execution_count": 5,
   "id": "cbe2ce25",
   "metadata": {},
   "outputs": [
    {
     "data": {
      "text/plain": [
       "<Text: Sense and Sensibility by Jane Austen 1811>"
      ]
     },
     "execution_count": 5,
     "metadata": {},
     "output_type": "execute_result"
    }
   ],
   "source": [
    "text2"
   ]
  },
  {
   "cell_type": "code",
   "execution_count": 6,
   "id": "138edf62",
   "metadata": {},
   "outputs": [
    {
     "name": "stdout",
     "output_type": "stream",
     "text": [
      "Displaying 11 of 11 matches:\n",
      "ong the former , one was of a most monstrous size . ... This came towards us , \n",
      "ON OF THE PSALMS . \" Touching that monstrous bulk of the whale or ork we have r\n",
      "ll over with a heathenish array of monstrous clubs and spears . Some were thick\n",
      "d as you gazed , and wondered what monstrous cannibal and savage could ever hav\n",
      "that has survived the flood ; most monstrous and most mountainous ! That Himmal\n",
      "they might scout at Moby Dick as a monstrous fable , or still worse and more de\n",
      "th of Radney .'\" CHAPTER 55 Of the Monstrous Pictures of Whales . I shall ere l\n",
      "ing Scenes . In connexion with the monstrous pictures of whales , I am strongly\n",
      "ere to enter upon those still more monstrous stories of them which are to be fo\n",
      "ght have been rummaged out of this monstrous cabinet there is no telling . But \n",
      "of Whale - Bones ; for Whales of a monstrous size are oftentimes cast up dead u\n"
     ]
    }
   ],
   "source": [
    "#it helps to find the context of the word \n",
    "text1.concordance(\"monstrous\")"
   ]
  },
  {
   "cell_type": "code",
   "execution_count": 7,
   "id": "6d53e30d",
   "metadata": {},
   "outputs": [
    {
     "name": "stdout",
     "output_type": "stream",
     "text": [
      "Displaying 25 of 38 matches:\n",
      "ay when they were created . And Adam lived an hundred and thirty years , and be\n",
      "ughters : And all the days that Adam lived were nine hundred and thirty yea and\n",
      "nd thirty yea and he died . And Seth lived an hundred and five years , and bega\n",
      "ve years , and begat Enos : And Seth lived after he begat Enos eight hundred an\n",
      "welve years : and he died . And Enos lived ninety years , and begat Cainan : An\n",
      " years , and begat Cainan : And Enos lived after he begat Cainan eight hundred \n",
      "ive years : and he died . And Cainan lived seventy years and begat Mahalaleel :\n",
      "rs and begat Mahalaleel : And Cainan lived after he begat Mahalaleel eight hund\n",
      "years : and he died . And Mahalaleel lived sixty and five years , and begat Jar\n",
      "s , and begat Jared : And Mahalaleel lived after he begat Jared eight hundred a\n",
      "and five yea and he died . And Jared lived an hundred sixty and two years , and\n",
      "o years , and he begat Eno And Jared lived after he begat Enoch eight hundred y\n",
      " and two yea and he died . And Enoch lived sixty and five years , and begat Met\n",
      " ; for God took him . And Methuselah lived an hundred eighty and seven years , \n",
      " , and begat Lamech . And Methuselah lived after he begat Lamech seven hundred \n",
      "nd nine yea and he died . And Lamech lived an hundred eighty and two years , an\n",
      "ch the LORD hath cursed . And Lamech lived after he begat Noah five hundred nin\n",
      "naan shall be his servant . And Noah lived after the flood three hundred and fi\n",
      "xad two years after the flo And Shem lived after he begat Arphaxad five hundred\n",
      "at sons and daughters . And Arphaxad lived five and thirty years , and begat Sa\n",
      "ars , and begat Salah : And Arphaxad lived after he begat Salah four hundred an\n",
      "begat sons and daughters . And Salah lived thirty years , and begat Eber : And \n",
      "y years , and begat Eber : And Salah lived after he begat Eber four hundred and\n",
      " begat sons and daughters . And Eber lived four and thirty years , and begat Pe\n",
      "y years , and begat Peleg : And Eber lived after he begat Peleg four hundred an\n"
     ]
    }
   ],
   "source": [
    "text3.concordance(\"lived\")"
   ]
  },
  {
   "cell_type": "code",
   "execution_count": 8,
   "id": "91d4e64b",
   "metadata": {},
   "outputs": [
    {
     "name": "stdout",
     "output_type": "stream",
     "text": [
      "am_glad a_pretty a_lucky is_pretty be_glad\n"
     ]
    }
   ],
   "source": [
    "#next function is to find the common context of two or more words that are used in the sentence\n",
    "text2.common_contexts([\"monstrous\",\"very\"])"
   ]
  },
  {
   "cell_type": "code",
   "execution_count": 11,
   "id": "027fbf2c",
   "metadata": {},
   "outputs": [
    {
     "data": {
      "text/plain": [
       "<Text: Inaugural Address Corpus>"
      ]
     },
     "execution_count": 11,
     "metadata": {},
     "output_type": "execute_result"
    }
   ],
   "source": [
    "#lets find out what is the text 4 about\n",
    "text4"
   ]
  },
  {
   "cell_type": "code",
   "execution_count": 12,
   "id": "97e2d6c2",
   "metadata": {},
   "outputs": [
    {
     "data": {
      "text/plain": [
       "152901"
      ]
     },
     "execution_count": 12,
     "metadata": {},
     "output_type": "execute_result"
    }
   ],
   "source": [
    "#so it is about the inaugraul address ,lets find out its len\n",
    "len(text4)"
   ]
  },
  {
   "cell_type": "code",
   "execution_count": 13,
   "id": "cfda18e8",
   "metadata": {
    "scrolled": true
   },
   "outputs": [
    {
     "name": "stderr",
     "output_type": "stream",
     "text": [
      "Building ngram index...\n"
     ]
    },
    {
     "name": "stdout",
     "output_type": "stream",
     "text": [
      "objects , and especially the truth that democratic government has\n",
      "innate capacity to govern its affairs aright through the Province\n",
      "ceded , by any timid forebodings of evil were not to overtake them\n",
      "while I possess the property of the pecuniary estimates for the\n",
      "advancement of civilization . , religion and a reckless disregard of\n",
      "the Argonne , Omaha Beach , Salerno and halfway around the globe , and\n",
      "nothing is more important in the House and the special attention of\n",
      "the Government to interfere with the advice and equipment to free ones\n",
      "; to the public agents intrusted with\n"
     ]
    },
    {
     "data": {
      "text/plain": [
       "'objects , and especially the truth that democratic government has\\ninnate capacity to govern its affairs aright through the Province\\nceded , by any timid forebodings of evil were not to overtake them\\nwhile I possess the property of the pecuniary estimates for the\\nadvancement of civilization . , religion and a reckless disregard of\\nthe Argonne , Omaha Beach , Salerno and halfway around the globe , and\\nnothing is more important in the House and the special attention of\\nthe Government to interfere with the advice and equipment to free ones\\n; to the public agents intrusted with'"
      ]
     },
     "execution_count": 13,
     "metadata": {},
     "output_type": "execute_result"
    }
   ],
   "source": [
    "#lets try to generate some random words from it\n",
    "text4.generate()"
   ]
  },
  {
   "cell_type": "code",
   "execution_count": 15,
   "id": "0b8301d2",
   "metadata": {},
   "outputs": [
    {
     "name": "stdout",
     "output_type": "stream",
     "text": [
      "of_. our_. ._is to_. of_and in_and that_is our_,\n"
     ]
    }
   ],
   "source": [
    "#lets find out some common context from it\n",
    "text4.common_contexts([\"democracy\",\"freedom\"])#didn;t got any clear results"
   ]
  },
  {
   "cell_type": "code",
   "execution_count": 10,
   "id": "d70b3b77",
   "metadata": {},
   "outputs": [
    {
     "data": {
      "image/png": "[encoded data removed]",
      "text/plain": [
       "<Figure size 432x288 with 1 Axes>"
      ]
     },
     "metadata": {
      "needs_background": "light"
     },
     "output_type": "display_data"
    }
   ],
   "source": [
    "#will try to plot the dispersion plot to check out the words and the contexts of the words before and after results\n",
    "text4.dispersion_plot([\"citizens\",\"democracy\",\"freedom\",\"duties\",\"America\"])"
   ]
  },
  {
   "cell_type": "code",
   "execution_count": 16,
   "id": "b2cb17fa",
   "metadata": {},
   "outputs": [
    {
     "data": {
      "text/plain": [
       "['!',\n",
       " '\"',\n",
       " '\";',\n",
       " '\"?',\n",
       " '$',\n",
       " \"'\",\n",
       " '(',\n",
       " ')',\n",
       " '),',\n",
       " ',',\n",
       " ',\"',\n",
       " '-',\n",
       " '--',\n",
       " '.',\n",
       " '.\"',\n",
       " '.)',\n",
       " '...',\n",
       " '....',\n",
       " '.]',\n",
       " '.¡¨',\n",
       " '/',\n",
       " '000',\n",
       " '1',\n",
       " '100',\n",
       " '108',\n",
       " '11',\n",
       " '120',\n",
       " '125',\n",
       " '13',\n",
       " '14th',\n",
       " '15th',\n",
       " '16',\n",
       " '1774',\n",
       " '1776',\n",
       " '1778',\n",
       " '1780',\n",
       " '1787',\n",
       " '1789',\n",
       " '1790',\n",
       " '1800',\n",
       " '1801',\n",
       " '1812',\n",
       " '1815',\n",
       " '1816',\n",
       " '1817',\n",
       " '1818',\n",
       " '1826',\n",
       " '1850',\n",
       " '1861',\n",
       " '1863',\n",
       " '1868',\n",
       " '1873',\n",
       " '1880',\n",
       " '1886',\n",
       " '1890',\n",
       " '1893',\n",
       " '1896',\n",
       " '1897',\n",
       " '1898',\n",
       " '1899',\n",
       " '18th',\n",
       " '1907',\n",
       " '1917',\n",
       " '1933',\n",
       " '1941',\n",
       " '1945',\n",
       " '1963',\n",
       " '1972',\n",
       " '1980',\n",
       " '1984',\n",
       " '19th',\n",
       " '2',\n",
       " '20',\n",
       " '200',\n",
       " '200th',\n",
       " '2017',\n",
       " '20th',\n",
       " '21st',\n",
       " '225',\n",
       " '25',\n",
       " '3',\n",
       " '30',\n",
       " '30th',\n",
       " '3d',\n",
       " '4',\n",
       " '40',\n",
       " '400',\n",
       " '41',\n",
       " '48',\n",
       " '4th',\n",
       " '5',\n",
       " '50',\n",
       " '50th',\n",
       " '6',\n",
       " '60',\n",
       " '67',\n",
       " '6th',\n",
       " '7',\n",
       " '8',\n",
       " '9',\n",
       " ':',\n",
       " ';',\n",
       " '?',\n",
       " '?\"',\n",
       " 'A',\n",
       " 'AIDS',\n",
       " 'ALL',\n",
       " 'AMENDMENT',\n",
       " 'AS',\n",
       " 'Abandonment',\n",
       " 'Abhorring',\n",
       " 'About',\n",
       " 'Above',\n",
       " 'Abraham',\n",
       " 'Abroad',\n",
       " 'Accept',\n",
       " 'Across',\n",
       " 'Act',\n",
       " 'Acting',\n",
       " 'Action',\n",
       " 'Actual',\n",
       " 'Adams',\n",
       " 'Additional',\n",
       " 'Address',\n",
       " 'Administered',\n",
       " 'Administration',\n",
       " 'Administrations',\n",
       " 'Advance',\n",
       " 'Advancing',\n",
       " 'Afghanistan',\n",
       " 'Africa',\n",
       " 'African',\n",
       " 'After',\n",
       " 'Again',\n",
       " 'Age',\n",
       " 'Agriculture',\n",
       " 'Alamo',\n",
       " 'All',\n",
       " 'Alleghanies',\n",
       " 'Almighty',\n",
       " 'Almost',\n",
       " 'Along',\n",
       " 'Already',\n",
       " 'Although',\n",
       " 'Always',\n",
       " 'Amelia',\n",
       " 'Amen',\n",
       " 'America',\n",
       " 'American',\n",
       " 'Americanism',\n",
       " 'Americans',\n",
       " 'Americansâ',\n",
       " 'Americanâ',\n",
       " 'Americas',\n",
       " 'Americaâ',\n",
       " 'Amid',\n",
       " 'Amidst',\n",
       " 'Among',\n",
       " 'Amongst',\n",
       " 'An',\n",
       " 'And',\n",
       " 'Andes',\n",
       " 'Annihilate',\n",
       " 'Another',\n",
       " 'Anthem',\n",
       " 'Anthony',\n",
       " 'Anxiety',\n",
       " 'Anxious',\n",
       " 'Any',\n",
       " 'Anyone',\n",
       " 'Apollo',\n",
       " 'Appalachia',\n",
       " 'Appreciating',\n",
       " 'Apprehension',\n",
       " 'April',\n",
       " 'Arbitration',\n",
       " 'Archibald',\n",
       " 'Are',\n",
       " 'Argonne',\n",
       " 'Arlington',\n",
       " 'Armies',\n",
       " 'Army',\n",
       " 'Articles',\n",
       " 'As',\n",
       " 'Asia',\n",
       " 'Asiatic',\n",
       " 'Assessing',\n",
       " 'Assistance',\n",
       " 'Association',\n",
       " 'Assuring',\n",
       " 'At',\n",
       " 'Athens',\n",
       " 'Atlantic',\n",
       " 'Attention',\n",
       " 'Augustine',\n",
       " 'Author',\n",
       " 'BUSINESS',\n",
       " 'BY',\n",
       " 'Bad',\n",
       " 'Baker',\n",
       " 'Baltimore',\n",
       " 'Barbary',\n",
       " 'Batavian',\n",
       " 'Beach',\n",
       " 'Because',\n",
       " 'Before',\n",
       " 'Being',\n",
       " 'Belief',\n",
       " 'Believing',\n",
       " 'Bell',\n",
       " 'Belleau',\n",
       " 'Beneath',\n",
       " 'Beneficent',\n",
       " 'Bernardin',\n",
       " 'Besides',\n",
       " 'Between',\n",
       " 'Beyond',\n",
       " 'Bible',\n",
       " 'Bicentennial',\n",
       " 'Biden',\n",
       " 'Bill',\n",
       " 'Black',\n",
       " 'Blessed',\n",
       " 'Board',\n",
       " 'Bolivar',\n",
       " 'Boston',\n",
       " 'Both',\n",
       " 'Britain',\n",
       " 'Britannic',\n",
       " 'British',\n",
       " 'Brown',\n",
       " 'Brutus',\n",
       " 'Budapest',\n",
       " 'Bureau',\n",
       " 'Burger',\n",
       " 'Burma',\n",
       " 'Bush',\n",
       " 'Business',\n",
       " 'But',\n",
       " 'Buy',\n",
       " 'By',\n",
       " 'CONCLUSION',\n",
       " 'CONGRESS',\n",
       " 'COOPERATION',\n",
       " 'CRIMINAL',\n",
       " 'Cabinet',\n",
       " 'Caesar',\n",
       " 'California',\n",
       " 'Called',\n",
       " 'Calmness',\n",
       " 'Calvin',\n",
       " 'Camillus',\n",
       " 'Can',\n",
       " 'Canal',\n",
       " 'Cantons',\n",
       " 'Cape',\n",
       " 'Capital',\n",
       " 'Capitol',\n",
       " 'Cardinal',\n",
       " 'Care',\n",
       " 'Carolina',\n",
       " 'Carter',\n",
       " 'Cemetery',\n",
       " 'Central',\n",
       " 'Century',\n",
       " 'Certain',\n",
       " 'Chairman',\n",
       " 'Chamber',\n",
       " 'Change',\n",
       " 'Charta',\n",
       " 'Charter',\n",
       " 'Cheney',\n",
       " 'Chief',\n",
       " 'China',\n",
       " 'Chop',\n",
       " 'Chosen',\n",
       " 'Chosin',\n",
       " 'Christian',\n",
       " 'Christianity',\n",
       " 'Christians',\n",
       " 'Christmas',\n",
       " 'Christs',\n",
       " 'Church',\n",
       " 'Churchill',\n",
       " 'Cincinnati',\n",
       " 'Citizens',\n",
       " 'Civil',\n",
       " 'Civility',\n",
       " 'Claiming',\n",
       " 'Clay',\n",
       " 'Clearly',\n",
       " 'Clergy',\n",
       " 'Clinton',\n",
       " 'Closely',\n",
       " 'Coast',\n",
       " 'Code',\n",
       " 'Cold',\n",
       " 'Coleman',\n",
       " 'Colonel',\n",
       " 'Columbia',\n",
       " 'Comfort',\n",
       " 'Commander',\n",
       " 'Commendable',\n",
       " 'Commerce',\n",
       " 'Commission',\n",
       " 'Commissioners',\n",
       " 'Common',\n",
       " 'Commons',\n",
       " 'Commonwealth',\n",
       " 'Communications',\n",
       " 'Communism',\n",
       " 'Communist',\n",
       " 'Communists',\n",
       " 'Compact',\n",
       " 'Compared',\n",
       " 'Conceived',\n",
       " 'Conceiving',\n",
       " 'Concord',\n",
       " 'Conditions',\n",
       " 'Confederacy',\n",
       " 'Confederation',\n",
       " 'Confidence',\n",
       " 'Confident',\n",
       " 'Confidently',\n",
       " 'Confusion',\n",
       " 'Congress',\n",
       " 'Congressional',\n",
       " 'Congressman',\n",
       " 'Connected',\n",
       " 'Conscious',\n",
       " 'Considering',\n",
       " 'Constantly',\n",
       " 'Constitution',\n",
       " 'Constitutional',\n",
       " 'Contemplating',\n",
       " 'Content',\n",
       " 'Continue',\n",
       " 'Convention',\n",
       " 'Convinced',\n",
       " 'Cook',\n",
       " 'Coolidge',\n",
       " 'Corporations',\n",
       " 'Cortes',\n",
       " 'Country',\n",
       " 'Countrymen',\n",
       " 'Courage',\n",
       " 'Court',\n",
       " 'Covenant',\n",
       " 'Creator',\n",
       " 'Crime',\n",
       " 'Croix',\n",
       " 'Cromwell',\n",
       " 'Cuba',\n",
       " 'Cuban',\n",
       " 'Cubans',\n",
       " 'Cures',\n",
       " 'Curtii',\n",
       " 'DC',\n",
       " 'Dakota',\n",
       " 'Dakotas',\n",
       " 'Dangers',\n",
       " 'Dark',\n",
       " 'David',\n",
       " 'Day',\n",
       " 'December',\n",
       " 'Decii',\n",
       " 'Declaration',\n",
       " 'Deeply',\n",
       " 'Delano',\n",
       " 'Democracy',\n",
       " 'Democratic',\n",
       " 'Democrats',\n",
       " 'Department',\n",
       " 'Departments',\n",
       " 'Depression',\n",
       " 'Descending',\n",
       " 'Destructive',\n",
       " 'Detroit',\n",
       " 'Did',\n",
       " 'Difficult',\n",
       " 'Dingley',\n",
       " 'Directly',\n",
       " 'Dirksen',\n",
       " 'Disagreement',\n",
       " 'Discord',\n",
       " 'Discouraging',\n",
       " 'Disease',\n",
       " 'Distinct',\n",
       " 'District',\n",
       " 'Distrust',\n",
       " 'Divided',\n",
       " 'Divine',\n",
       " 'Division',\n",
       " 'Do',\n",
       " 'Does',\n",
       " 'Doing',\n",
       " 'Dole',\n",
       " 'Domestic',\n",
       " 'Domingo',\n",
       " 'Don',\n",
       " 'Dr',\n",
       " 'Dream',\n",
       " 'Due',\n",
       " 'Dulled',\n",
       " 'During',\n",
       " 'EDUCATION',\n",
       " 'EIGHTEENTH',\n",
       " 'ELECTION',\n",
       " 'ENFORCEMENT',\n",
       " 'Each',\n",
       " 'Earth',\n",
       " 'East',\n",
       " 'Economic',\n",
       " 'Economy',\n",
       " 'Egypt',\n",
       " 'Eight',\n",
       " 'Eisenhower',\n",
       " 'Elected',\n",
       " 'Emancipation',\n",
       " 'Emerson',\n",
       " 'Emperor',\n",
       " 'Employed',\n",
       " 'Encountering',\n",
       " 'Encouraging',\n",
       " 'Ending',\n",
       " 'Endowed',\n",
       " 'Engineers',\n",
       " 'England',\n",
       " 'English',\n",
       " 'Enough',\n",
       " 'Entering',\n",
       " 'Enterprises',\n",
       " 'Envy',\n",
       " 'Equal',\n",
       " 'Equality',\n",
       " 'Equally',\n",
       " 'Especially',\n",
       " 'Establishment',\n",
       " 'Europe',\n",
       " 'European',\n",
       " 'Eve',\n",
       " 'Even',\n",
       " 'Events',\n",
       " 'Eventually',\n",
       " 'Ever',\n",
       " 'Every',\n",
       " 'Everyone',\n",
       " 'Everywhere',\n",
       " 'Executive',\n",
       " 'Existing',\n",
       " 'Expenditure',\n",
       " 'Experience',\n",
       " 'Experiencing',\n",
       " 'FAILURE',\n",
       " 'FROM',\n",
       " 'Faced',\n",
       " 'Falls',\n",
       " 'Far',\n",
       " 'Farewell',\n",
       " 'Father',\n",
       " 'Fathers',\n",
       " 'February',\n",
       " 'Federal',\n",
       " 'Federalists',\n",
       " 'Fellow',\n",
       " 'Few',\n",
       " 'Fifty',\n",
       " 'Finally',\n",
       " 'First',\n",
       " 'Florida',\n",
       " 'Floridas',\n",
       " 'Folks',\n",
       " 'Following',\n",
       " 'Fondly',\n",
       " 'For',\n",
       " 'Force',\n",
       " 'Forces',\n",
       " 'Foreign',\n",
       " 'Forge',\n",
       " 'Fort',\n",
       " 'Fortunate',\n",
       " 'Fortunately',\n",
       " 'Forty',\n",
       " 'Founders',\n",
       " 'Founding',\n",
       " 'Fountain',\n",
       " 'Four',\n",
       " 'Fourth',\n",
       " 'France',\n",
       " 'Franklin',\n",
       " 'Freed',\n",
       " 'Freedom',\n",
       " 'French',\n",
       " 'Friends',\n",
       " 'From',\n",
       " 'Front',\n",
       " 'Fruitful',\n",
       " 'Fully',\n",
       " 'G',\n",
       " 'GOVERNMENT',\n",
       " 'Gatun',\n",
       " 'Gaul',\n",
       " 'General',\n",
       " 'Genius',\n",
       " 'George',\n",
       " 'Germany',\n",
       " 'Gettysburg',\n",
       " 'Ghent',\n",
       " 'Gillis',\n",
       " 'Give',\n",
       " 'Giver',\n",
       " 'God',\n",
       " 'Godsend',\n",
       " 'Goethals',\n",
       " 'Golden',\n",
       " 'Good',\n",
       " 'Gore',\n",
       " 'Government',\n",
       " 'Governments',\n",
       " 'Grant',\n",
       " 'Grave',\n",
       " 'Great',\n",
       " 'Greater',\n",
       " 'Greatness',\n",
       " 'Greece',\n",
       " 'Gross',\n",
       " 'Growing',\n",
       " 'Guadalcanal',\n",
       " 'Guarantees',\n",
       " 'Guided',\n",
       " 'Gulf',\n",
       " 'HEALTH',\n",
       " 'Had',\n",
       " 'Hague',\n",
       " 'Half',\n",
       " 'Hall',\n",
       " 'Hand',\n",
       " 'Happily',\n",
       " 'Happiness',\n",
       " 'Happy',\n",
       " 'Hard',\n",
       " 'Harris',\n",
       " 'Has',\n",
       " 'Hatfield',\n",
       " 'Have',\n",
       " 'Having',\n",
       " 'He',\n",
       " 'Heads',\n",
       " 'Hear',\n",
       " 'Heaven',\n",
       " 'Heavenly',\n",
       " 'Help',\n",
       " 'Helvetic',\n",
       " 'Hemisphere',\n",
       " 'Hence',\n",
       " 'Here',\n",
       " 'Herein',\n",
       " 'High',\n",
       " 'Higher',\n",
       " 'Hill',\n",
       " 'Him',\n",
       " 'Hindus',\n",
       " 'His',\n",
       " 'History',\n",
       " 'Hitherto',\n",
       " 'Holy',\n",
       " 'Homes',\n",
       " 'Homestead',\n",
       " 'Honesty',\n",
       " 'Honorable',\n",
       " 'Honored',\n",
       " 'Honoring',\n",
       " 'Hope',\n",
       " 'Horn',\n",
       " 'House',\n",
       " 'Houses',\n",
       " 'How',\n",
       " 'However',\n",
       " 'Human',\n",
       " 'Humanity',\n",
       " 'Humphrey',\n",
       " 'Hundreds',\n",
       " 'I',\n",
       " 'II',\n",
       " 'INVESTIGATION',\n",
       " 'Idle',\n",
       " 'If',\n",
       " 'Ill',\n",
       " 'Illiteracy',\n",
       " 'Immunity',\n",
       " 'In',\n",
       " 'Inaugural',\n",
       " 'Inauguration',\n",
       " 'Inconsiderable',\n",
       " 'Indeed',\n",
       " 'Independence',\n",
       " 'Independently',\n",
       " 'Indian',\n",
       " 'Indians',\n",
       " 'Indies',\n",
       " 'Indo',\n",
       " 'Indulging',\n",
       " 'Industrial',\n",
       " 'Industry',\n",
       " 'Infinite',\n",
       " 'Information',\n",
       " 'Instead',\n",
       " 'Instinctively',\n",
       " 'Intelligence',\n",
       " 'Intentions',\n",
       " 'Internal',\n",
       " 'International',\n",
       " 'Internet',\n",
       " 'Interstate',\n",
       " 'Intrusted',\n",
       " 'Invasions',\n",
       " 'Investment',\n",
       " 'Invisible',\n",
       " 'Iowa',\n",
       " 'Iraq',\n",
       " 'Irritated',\n",
       " 'Is',\n",
       " 'Isaiah',\n",
       " 'Islamic',\n",
       " 'Island',\n",
       " 'Islands',\n",
       " 'Isles',\n",
       " 'Israel',\n",
       " 'Isthmus',\n",
       " 'It',\n",
       " 'Italy',\n",
       " 'Its',\n",
       " 'Iwo',\n",
       " 'JUSTICE',\n",
       " 'Janeiro',\n",
       " 'January',\n",
       " 'Jealous',\n",
       " 'Jefferson',\n",
       " 'Jericho',\n",
       " 'Jews',\n",
       " 'Jima',\n",
       " 'John',\n",
       " 'Johnson',\n",
       " 'Joseph',\n",
       " 'Julia',\n",
       " 'July',\n",
       " 'Just',\n",
       " 'Justice',\n",
       " 'K',\n",
       " 'Kamala',\n",
       " 'Kansas',\n",
       " 'Khe',\n",
       " 'Kindly',\n",
       " 'King',\n",
       " 'Knowing',\n",
       " 'Koran',\n",
       " 'Korea',\n",
       " 'Labor',\n",
       " 'Laboring',\n",
       " 'Lady',\n",
       " 'Lakes',\n",
       " 'Latent',\n",
       " 'Laws',\n",
       " 'Leader',\n",
       " 'League',\n",
       " 'Legislation',\n",
       " 'Legislature',\n",
       " 'Legitimate',\n",
       " 'Less',\n",
       " 'Let',\n",
       " 'Liberty',\n",
       " 'Like',\n",
       " 'Likewise',\n",
       " 'Limited',\n",
       " 'Lincoln',\n",
       " 'Lives',\n",
       " 'Loans',\n",
       " 'Local',\n",
       " 'Long',\n",
       " 'Look',\n",
       " 'Looking',\n",
       " 'Lord',\n",
       " 'Louisiana',\n",
       " 'Love',\n",
       " 'Loyalty',\n",
       " 'Luther',\n",
       " 'Lynchings',\n",
       " 'MANDATES',\n",
       " 'MY',\n",
       " 'MacLeish',\n",
       " 'Madison',\n",
       " 'Magistrate',\n",
       " 'Magna',\n",
       " 'Magnifying',\n",
       " 'Majesty',\n",
       " 'Majority',\n",
       " 'Make',\n",
       " 'Maker',\n",
       " 'Malaya',\n",
       " 'Mall',\n",
       " 'Manifestly',\n",
       " 'Mankind',\n",
       " 'Many',\n",
       " 'March',\n",
       " 'Mars',\n",
       " 'Martin',\n",
       " 'Massachusetts',\n",
       " 'Masses',\n",
       " 'Mathias',\n",
       " 'May',\n",
       " 'Mayflower',\n",
       " 'McConnell',\n",
       " 'Meantime',\n",
       " 'Measures',\n",
       " 'Medicaid',\n",
       " 'Medicare',\n",
       " 'Mediterranean',\n",
       " 'Melancholy',\n",
       " 'Members',\n",
       " 'Memorial',\n",
       " 'Men',\n",
       " 'Mental',\n",
       " 'Mexico',\n",
       " 'Micah',\n",
       " 'Michael',\n",
       " 'Michelle',\n",
       " 'Middle',\n",
       " 'Mill',\n",
       " 'Millions',\n",
       " 'Mind',\n",
       " 'Mindful',\n",
       " 'Minorities',\n",
       " 'Mischievous',\n",
       " 'Misled',\n",
       " 'Miss',\n",
       " 'Mississippi',\n",
       " 'Missouri',\n",
       " 'Mitchell',\n",
       " 'Modern',\n",
       " 'Moment',\n",
       " 'Mondale',\n",
       " 'Monday',\n",
       " 'Monroe',\n",
       " 'Montana',\n",
       " 'Monticello',\n",
       " 'Moomaw',\n",
       " 'Moon',\n",
       " 'Moral',\n",
       " 'More',\n",
       " 'Moreover',\n",
       " 'Mormon',\n",
       " 'Moscow',\n",
       " 'Most',\n",
       " 'Mothers',\n",
       " 'Mount',\n",
       " 'Mountains',\n",
       " 'Mr',\n",
       " 'Mrs',\n",
       " 'Much',\n",
       " 'Muslim',\n",
       " 'Muslims',\n",
       " 'Must',\n",
       " 'My',\n",
       " 'NATIONAL',\n",
       " 'Nation',\n",
       " 'National',\n",
       " 'Nations',\n",
       " 'Nationâ',\n",
       " 'Nature',\n",
       " 'Naval',\n",
       " 'Navy',\n",
       " 'Nearly',\n",
       " 'Nebraska',\n",
       " 'Negligence',\n",
       " 'Negro',\n",
       " 'Negroes',\n",
       " 'Neill',\n",
       " 'Neither',\n",
       " 'Never',\n",
       " 'New',\n",
       " 'Newtown',\n",
       " 'Next',\n",
       " 'Nixon',\n",
       " 'No',\n",
       " 'None',\n",
       " 'Nor',\n",
       " 'Normandy',\n",
       " 'North',\n",
       " 'Northerners',\n",
       " 'Not',\n",
       " 'Nothing',\n",
       " 'Notwithstanding',\n",
       " 'November',\n",
       " 'Now',\n",
       " 'Nowhere',\n",
       " 'O',\n",
       " 'OF',\n",
       " 'OTHER',\n",
       " 'OUR',\n",
       " 'Obama',\n",
       " 'Occasionally',\n",
       " 'Ocean',\n",
       " 'Oceans',\n",
       " 'Octavius',\n",
       " 'October',\n",
       " 'Of',\n",
       " 'Off',\n",
       " 'Offices',\n",
       " 'Ohio',\n",
       " 'Old',\n",
       " 'Omaha',\n",
       " 'Omnipotence',\n",
       " 'On',\n",
       " 'Once',\n",
       " 'One',\n",
       " 'Only',\n",
       " 'Opportunism',\n",
       " 'Opportunity',\n",
       " 'Or',\n",
       " 'Order',\n",
       " 'Oregon',\n",
       " 'Orient',\n",
       " 'Orleans',\n",
       " 'Other',\n",
       " 'Others',\n",
       " 'Our',\n",
       " 'Ours',\n",
       " 'Out',\n",
       " 'Over',\n",
       " 'Overlooking',\n",
       " 'Overwhelmingly',\n",
       " 'PARTY',\n",
       " 'PEACE',\n",
       " 'PROGRESS',\n",
       " 'PUBLIC',\n",
       " 'Pacific',\n",
       " 'Page',\n",
       " 'Panama',\n",
       " 'Parchment',\n",
       " 'Parent',\n",
       " 'Parents',\n",
       " 'Paris',\n",
       " 'Parliament',\n",
       " 'Partial',\n",
       " 'Party',\n",
       " 'Passing',\n",
       " 'Passion',\n",
       " 'Patriotism',\n",
       " 'Patron',\n",
       " 'Peabody',\n",
       " 'Peace',\n",
       " 'Peking',\n",
       " 'Pelosi',\n",
       " 'Pence',\n",
       " 'Penetrating',\n",
       " 'Pennsylvania',\n",
       " 'People',\n",
       " 'Peoples',\n",
       " 'Perceiving',\n",
       " 'Perfection',\n",
       " 'Perhaps',\n",
       " 'Permanent',\n",
       " 'Perpetual',\n",
       " 'Perpetuity',\n",
       " 'Persian',\n",
       " 'Persistent',\n",
       " 'Personally',\n",
       " 'Petitions',\n",
       " 'Philadelphia',\n",
       " 'Philippine',\n",
       " 'Philippines',\n",
       " 'Physically',\n",
       " 'Plainly',\n",
       " 'Pledge',\n",
       " 'Plenty',\n",
       " 'Political',\n",
       " 'Politicians',\n",
       " 'Politics',\n",
       " 'Pool',\n",
       " 'Pork',\n",
       " 'Porto',\n",
       " 'Ports',\n",
       " 'Position',\n",
       " 'Possessing',\n",
       " 'Posterity',\n",
       " 'Potomac',\n",
       " 'Power',\n",
       " 'Powerful',\n",
       " 'Powers',\n",
       " 'Practices',\n",
       " 'Preeminently',\n",
       " 'Prejudice',\n",
       " 'Present',\n",
       " 'Presidency',\n",
       " 'President',\n",
       " 'Presidential',\n",
       " 'Presidents',\n",
       " 'Previous',\n",
       " 'Price',\n",
       " 'Prices',\n",
       " 'Primarily',\n",
       " 'Problems',\n",
       " 'Proceeding',\n",
       " 'Proclamation',\n",
       " 'Product',\n",
       " 'Profound',\n",
       " 'Progress',\n",
       " 'Proofs',\n",
       " 'Prophets',\n",
       " 'Prosperity',\n",
       " 'Protection',\n",
       " 'Protector',\n",
       " 'Providence',\n",
       " 'Province',\n",
       " 'Public',\n",
       " 'Purposes',\n",
       " 'Putting',\n",
       " 'Quayle',\n",
       " 'RELATION',\n",
       " 'RESPONSIBILITIES',\n",
       " 'Race',\n",
       " 'Rainbow',\n",
       " 'Raised',\n",
       " 'Rather',\n",
       " 'Reagan',\n",
       " 'Realizing',\n",
       " 'Reasoned',\n",
       " 'Recall',\n",
       " 'Recent',\n",
       " 'Recognition',\n",
       " 'Recognizing',\n",
       " 'Reconstruction',\n",
       " 'Red',\n",
       " 'Reflecting',\n",
       " 'Reform',\n",
       " 'Reforms',\n",
       " 'Relief',\n",
       " 'Relying',\n",
       " 'Removing',\n",
       " 'Renewed',\n",
       " 'Repeated',\n",
       " 'Representative',\n",
       " 'Representatives',\n",
       " 'Republic',\n",
       " 'Republican',\n",
       " 'Republicans',\n",
       " 'Republics',\n",
       " 'Reservoir',\n",
       " 'Resolved',\n",
       " 'Respecting',\n",
       " 'Resting',\n",
       " 'Restoration',\n",
       " 'Retrospect',\n",
       " 'Returning',\n",
       " 'Reverend',\n",
       " 'Revolution',\n",
       " 'Revolutionary',\n",
       " 'Rico',\n",
       " 'Rights',\n",
       " 'Rigid',\n",
       " 'Rio',\n",
       " 'River',\n",
       " 'Roberts',\n",
       " 'Rocky',\n",
       " 'Roman',\n",
       " 'Rome',\n",
       " 'Roosevelt',\n",
       " 'Root',\n",
       " 'Rule',\n",
       " 'Ruler',\n",
       " 'Russia',\n",
       " 'SESSION',\n",
       " 'SPECIAL',\n",
       " 'SYSTEM',\n",
       " 'Sabine',\n",
       " 'Sacredly',\n",
       " 'Sahn',\n",
       " 'Saint',\n",
       " 'Salerno',\n",
       " 'Sanitary',\n",
       " 'Santo',\n",
       " 'Savior',\n",
       " 'Scandinavia',\n",
       " 'Schumer',\n",
       " 'Science',\n",
       " 'Scientists',\n",
       " 'Scipios',\n",
       " 'Scripture',\n",
       " 'Scythia',\n",
       " 'Second',\n",
       " 'Secretary',\n",
       " 'Sectionalism',\n",
       " 'Security',\n",
       " 'Seeking',\n",
       " 'Self',\n",
       " 'Selma',\n",
       " 'Senate',\n",
       " 'Senator',\n",
       " 'Senators',\n",
       " 'Seneca',\n",
       " ...]"
      ]
     },
     "execution_count": 16,
     "metadata": {},
     "output_type": "execute_result"
    }
   ],
   "source": [
    "#lets do some more analysis in this text\n",
    "sorted(set(text4))"
   ]
  },
  {
   "cell_type": "code",
   "execution_count": 17,
   "id": "040734ee",
   "metadata": {},
   "outputs": [
    {
     "data": {
      "text/plain": [
       "10025"
      ]
     },
     "execution_count": 17,
     "metadata": {},
     "output_type": "execute_result"
    }
   ],
   "source": [
    "#finding out the length of the sorted set4, so this is the length of distint words that is not used commonly \n",
    "len(set(text4))"
   ]
  },
  {
   "cell_type": "code",
   "execution_count": 19,
   "id": "5dd35395",
   "metadata": {},
   "outputs": [
    {
     "data": {
      "text/plain": [
       "15.251970074812968"
      ]
     },
     "execution_count": 19,
     "metadata": {},
     "output_type": "execute_result"
    }
   ],
   "source": [
    "#now calculate the measure of lexical richness of the text\n",
    "from __future__ import division\n",
    "len(text4)/len(set(text4))\n",
    "#it means that each word is used 15 times"
   ]
  },
  {
   "cell_type": "code",
   "execution_count": 20,
   "id": "4362d401",
   "metadata": {},
   "outputs": [
    {
     "data": {
      "text/plain": [
       "65"
      ]
     },
     "execution_count": 20,
     "metadata": {},
     "output_type": "execute_result"
    }
   ],
   "source": [
    "text4.count(\"democracy\")"
   ]
  },
  {
   "cell_type": "code",
   "execution_count": 21,
   "id": "7252d831",
   "metadata": {},
   "outputs": [
    {
     "data": {
      "text/plain": [
       "240"
      ]
     },
     "execution_count": 21,
     "metadata": {},
     "output_type": "execute_result"
    }
   ],
   "source": [
    "text4.count(\"America\")"
   ]
  },
  {
   "cell_type": "code",
   "execution_count": 22,
   "id": "b68ce5f0",
   "metadata": {},
   "outputs": [
    {
     "data": {
      "text/plain": [
       "180"
      ]
     },
     "execution_count": 22,
     "metadata": {},
     "output_type": "execute_result"
    }
   ],
   "source": [
    "text4.count(\"freedom\")"
   ]
  },
  {
   "cell_type": "code",
   "execution_count": 24,
   "id": "379eedf4",
   "metadata": {},
   "outputs": [
    {
     "data": {
      "text/plain": [
       "0.1177232326799694"
      ]
     },
     "execution_count": 24,
     "metadata": {},
     "output_type": "execute_result"
    }
   ],
   "source": [
    "#now lets try to calculate the percentage of it in the text\n",
    "100*text4.count(\"freedom\")/len(text4)"
   ]
  },
  {
   "cell_type": "code",
   "execution_count": 27,
   "id": "2349dba2",
   "metadata": {},
   "outputs": [],
   "source": [
    "#so writing the function for the above manupulation on the dataset\n",
    "#this function is defined to find the lexical diversity of the function\n",
    "def lexical_diversity(text):\n",
    "    return len(text)/len(set(text))"
   ]
  },
  {
   "cell_type": "code",
   "execution_count": 28,
   "id": "9d0aa252",
   "metadata": {},
   "outputs": [],
   "source": [
    "#we will define another function to find the percentage of the word in the text\n",
    "def percentage(count, total):\n",
    "    return 100*count/total"
   ]
  },
  {
   "cell_type": "code",
   "execution_count": 30,
   "id": "8155bc54",
   "metadata": {},
   "outputs": [
    {
     "data": {
      "text/plain": [
       "15.251970074812968"
      ]
     },
     "execution_count": 30,
     "metadata": {},
     "output_type": "execute_result"
    }
   ],
   "source": [
    "lexical_diversity(text4)"
   ]
  },
  {
   "cell_type": "markdown",
   "id": "a19fb337",
   "metadata": {},
   "source": [
    "# A closer look at python: texts as lists of words"
   ]
  },
  {
   "cell_type": "code",
   "execution_count": 31,
   "id": "4198aaba",
   "metadata": {},
   "outputs": [],
   "source": [
    "#defining a list in the python\n",
    "sent1 = ['call','me','mahii','.']"
   ]
  },
  {
   "cell_type": "code",
   "execution_count": 32,
   "id": "5ada6a19",
   "metadata": {},
   "outputs": [
    {
     "data": {
      "text/plain": [
       "['call', 'me', 'mahii', '.']"
      ]
     },
     "execution_count": 32,
     "metadata": {},
     "output_type": "execute_result"
    }
   ],
   "source": [
    "sent1"
   ]
  },
  {
   "cell_type": "code",
   "execution_count": 33,
   "id": "7e3d0b7d",
   "metadata": {},
   "outputs": [
    {
     "data": {
      "text/plain": [
       "'me'"
      ]
     },
     "execution_count": 33,
     "metadata": {},
     "output_type": "execute_result"
    }
   ],
   "source": [
    "sent1[1]"
   ]
  },
  {
   "cell_type": "code",
   "execution_count": 34,
   "id": "0c5d93ad",
   "metadata": {},
   "outputs": [
    {
     "data": {
      "text/plain": [
       "['me', 'mahii']"
      ]
     },
     "execution_count": 34,
     "metadata": {},
     "output_type": "execute_result"
    }
   ],
   "source": [
    "sent1[1:3]"
   ]
  },
  {
   "cell_type": "code",
   "execution_count": 35,
   "id": "6b01a748",
   "metadata": {},
   "outputs": [
    {
     "data": {
      "text/plain": [
       "4"
      ]
     },
     "execution_count": 35,
     "metadata": {},
     "output_type": "execute_result"
    }
   ],
   "source": [
    "len(sent1)"
   ]
  },
  {
   "cell_type": "code",
   "execution_count": 36,
   "id": "3ed695b4",
   "metadata": {},
   "outputs": [
    {
     "data": {
      "text/plain": [
       "1.0"
      ]
     },
     "execution_count": 36,
     "metadata": {},
     "output_type": "execute_result"
    }
   ],
   "source": [
    "lexical_diversity(sent1)"
   ]
  },
  {
   "cell_type": "code",
   "execution_count": 37,
   "id": "0d491ae9",
   "metadata": {},
   "outputs": [],
   "source": [
    "sent2 = ['the','family','of','dashwood','had','long','been','settled','in','essex']"
   ]
  },
  {
   "cell_type": "code",
   "execution_count": 38,
   "id": "f104f1e1",
   "metadata": {},
   "outputs": [
    {
     "data": {
      "text/plain": [
       "10"
      ]
     },
     "execution_count": 38,
     "metadata": {},
     "output_type": "execute_result"
    }
   ],
   "source": [
    "len(sent2)"
   ]
  },
  {
   "cell_type": "code",
   "execution_count": 39,
   "id": "d2bb8551",
   "metadata": {},
   "outputs": [
    {
     "data": {
      "text/plain": [
       "['been',\n",
       " 'dashwood',\n",
       " 'essex',\n",
       " 'family',\n",
       " 'had',\n",
       " 'in',\n",
       " 'long',\n",
       " 'of',\n",
       " 'settled',\n",
       " 'the']"
      ]
     },
     "execution_count": 39,
     "metadata": {},
     "output_type": "execute_result"
    }
   ],
   "source": [
    "#arranged the words according to the dictionary\n",
    "sorted(sent2)"
   ]
  },
  {
   "cell_type": "code",
   "execution_count": 40,
   "id": "287e5f04",
   "metadata": {},
   "outputs": [
    {
     "data": {
      "text/plain": [
       "10"
      ]
     },
     "execution_count": 40,
     "metadata": {},
     "output_type": "execute_result"
    }
   ],
   "source": [
    "len(set(sent2))"
   ]
  },
  {
   "cell_type": "code",
   "execution_count": 41,
   "id": "195ef1b2",
   "metadata": {},
   "outputs": [
    {
     "data": {
      "text/plain": [
       "{'been',\n",
       " 'dashwood',\n",
       " 'essex',\n",
       " 'family',\n",
       " 'had',\n",
       " 'in',\n",
       " 'long',\n",
       " 'of',\n",
       " 'settled',\n",
       " 'the'}"
      ]
     },
     "execution_count": 41,
     "metadata": {},
     "output_type": "execute_result"
    }
   ],
   "source": [
    "set(sent2)"
   ]
  },
  {
   "cell_type": "code",
   "execution_count": 42,
   "id": "4f3d56cc",
   "metadata": {},
   "outputs": [
    {
     "data": {
      "text/plain": [
       "1"
      ]
     },
     "execution_count": 42,
     "metadata": {},
     "output_type": "execute_result"
    }
   ],
   "source": [
    "sent2.count(\"essex\")"
   ]
  },
  {
   "cell_type": "code",
   "execution_count": 43,
   "id": "5003772c",
   "metadata": {},
   "outputs": [
    {
     "data": {
      "text/plain": [
       "['call',\n",
       " 'me',\n",
       " 'mahii',\n",
       " '.',\n",
       " 'the',\n",
       " 'family',\n",
       " 'of',\n",
       " 'dashwood',\n",
       " 'had',\n",
       " 'long',\n",
       " 'been',\n",
       " 'settled',\n",
       " 'in',\n",
       " 'essex']"
      ]
     },
     "execution_count": 43,
     "metadata": {},
     "output_type": "execute_result"
    }
   ],
   "source": [
    "#adding the list or concatenating the list\n",
    "sent1 + sent2"
   ]
  },
  {
   "cell_type": "code",
   "execution_count": 44,
   "id": "9fc305f0",
   "metadata": {},
   "outputs": [],
   "source": [
    "sent1.append(\"hey\")"
   ]
  },
  {
   "cell_type": "code",
   "execution_count": 45,
   "id": "f0b55be4",
   "metadata": {},
   "outputs": [
    {
     "data": {
      "text/plain": [
       "['call', 'me', 'mahii', '.', 'hey']"
      ]
     },
     "execution_count": 45,
     "metadata": {},
     "output_type": "execute_result"
    }
   ],
   "source": [
    "sent1"
   ]
  },
  {
   "cell_type": "code",
   "execution_count": 46,
   "id": "81054bb6",
   "metadata": {},
   "outputs": [
    {
     "data": {
      "text/plain": [
       "'before'"
      ]
     },
     "execution_count": 46,
     "metadata": {},
     "output_type": "execute_result"
    }
   ],
   "source": [
    "#lets try out some indexing in the lists\n",
    "text4[320]"
   ]
  },
  {
   "cell_type": "code",
   "execution_count": 47,
   "id": "e3ff656b",
   "metadata": {},
   "outputs": [
    {
     "data": {
      "text/plain": [
       "['before', 'me', ',', 'my', 'error']"
      ]
     },
     "execution_count": 47,
     "metadata": {},
     "output_type": "execute_result"
    }
   ],
   "source": [
    "#providing the multiple argument in the list\n",
    "text4[320:325]"
   ]
  },
  {
   "cell_type": "code",
   "execution_count": 48,
   "id": "e0af3ae4",
   "metadata": {},
   "outputs": [
    {
     "data": {
      "text/plain": [
       "['We',\n",
       " \"'\",\n",
       " 're',\n",
       " 'an',\n",
       " 'anarcho',\n",
       " '-',\n",
       " 'syndicalist',\n",
       " 'commune',\n",
       " '.',\n",
       " 'We',\n",
       " 'take',\n",
       " 'it',\n",
       " 'in',\n",
       " 'turns',\n",
       " 'to',\n",
       " 'act',\n",
       " 'as',\n",
       " 'a',\n",
       " 'sort',\n",
       " 'of',\n",
       " 'executive',\n",
       " 'officer',\n",
       " 'for',\n",
       " 'the',\n",
       " 'week']"
      ]
     },
     "execution_count": 48,
     "metadata": {},
     "output_type": "execute_result"
    }
   ],
   "source": [
    "#so what we did on the upper section is called the slicing \n",
    "#let do it on some more text \n",
    "text6[1600:1625]"
   ]
  },
  {
   "cell_type": "code",
   "execution_count": 49,
   "id": "55a019ea",
   "metadata": {},
   "outputs": [
    {
     "data": {
      "text/plain": [
       "['me', 'mahii', '.', 'hey']"
      ]
     },
     "execution_count": 49,
     "metadata": {},
     "output_type": "execute_result"
    }
   ],
   "source": [
    "sent1[1:]"
   ]
  },
  {
   "cell_type": "code",
   "execution_count": 52,
   "id": "8e31cb96",
   "metadata": {},
   "outputs": [],
   "source": [
    "#saving into another variable\n",
    "vocab = set(text4)"
   ]
  },
  {
   "cell_type": "code",
   "execution_count": 54,
   "id": "f192b635",
   "metadata": {},
   "outputs": [
    {
     "data": {
      "text/plain": [
       "152901"
      ]
     },
     "execution_count": 54,
     "metadata": {},
     "output_type": "execute_result"
    }
   ],
   "source": [
    "vocab_size = len(text4)\n",
    "vocab_size"
   ]
  },
  {
   "cell_type": "code",
   "execution_count": 56,
   "id": "0809bf62",
   "metadata": {},
   "outputs": [
    {
     "data": {
      "text/plain": [
       "'Montypyton'"
      ]
     },
     "execution_count": 56,
     "metadata": {},
     "output_type": "execute_result"
    }
   ],
   "source": [
    "#we can also use the join and split function on our strings\n",
    "name = 'Monty' + 'pyton'\n",
    "name"
   ]
  },
  {
   "cell_type": "markdown",
   "id": "62cd1079",
   "metadata": {},
   "source": [
    "# computing with language: simple statistics"
   ]
  },
  {
   "cell_type": "code",
   "execution_count": 57,
   "id": "d5373e49",
   "metadata": {},
   "outputs": [],
   "source": [
    "saying = ['After','all','is','said','and','done','more','is','said','than','done']"
   ]
  },
  {
   "cell_type": "code",
   "execution_count": 59,
   "id": "523e62b9",
   "metadata": {},
   "outputs": [
    {
     "data": {
      "text/plain": [
       "['After', 'all', 'and', 'done', 'is', 'more', 'said', 'than']"
      ]
     },
     "execution_count": 59,
     "metadata": {},
     "output_type": "execute_result"
    }
   ],
   "source": [
    "tokens_1 = set(saying)\n",
    "tokens = sorted(tokens_1)\n",
    "\n",
    "#finding the righ order of the tokens\n",
    "tokens\n",
    "#now I get it what does they mean by the richness of the language as we can see that the set function only present the tokens\n",
    "#that are not repeated in the language. so if 'is' is written twice in our text the set will count it as the one."
   ]
  },
  {
   "cell_type": "code",
   "execution_count": 60,
   "id": "d83b2135",
   "metadata": {},
   "outputs": [
    {
     "data": {
      "text/plain": [
       "['said', 'than']"
      ]
     },
     "execution_count": 60,
     "metadata": {},
     "output_type": "execute_result"
    }
   ],
   "source": [
    "tokens[-2:] #it start counting form the backside"
   ]
  },
  {
   "cell_type": "code",
   "execution_count": 62,
   "id": "fb744803",
   "metadata": {},
   "outputs": [
    {
     "data": {
      "text/plain": [
       "FreqDist({'the': 9555, ',': 7275, 'of': 7169, 'and': 5226, '.': 5011, 'to': 4477, 'in': 2604, 'a': 2229, 'our': 2062, 'that': 1769, ...})"
      ]
     },
     "execution_count": 62,
     "metadata": {},
     "output_type": "execute_result"
    }
   ],
   "source": [
    "#finding out the frequency distribution\n",
    "fdist1 = FreqDist(text4)\n",
    "fdist1"
   ]
  },
  {
   "cell_type": "code",
   "execution_count": null,
   "id": "05be6237",
   "metadata": {},
   "outputs": [],
   "source": []
  }
 ],
 "metadata": {
  "kernelspec": {
   "display_name": "Python 3",
   "language": "python",
   "name": "python3"
  },
  "language_info": {
   "codemirror_mode": {
    "name": "ipython",
    "version": 3
   },
   "file_extension": ".py",
   "mimetype": "text/x-python",
   "name": "python",
   "nbconvert_exporter": "python",
   "pygments_lexer": "ipython3",
   "version": "3.8.8"
  }
 },
 "nbformat": 4,
 "nbformat_minor": 5
}
