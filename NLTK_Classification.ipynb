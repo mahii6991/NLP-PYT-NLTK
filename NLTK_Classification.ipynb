{
 "cells": [
  {
   "cell_type": "markdown",
   "metadata": {},
   "source": [
    "# NLP Basics: What is Natural Language Processing & the Natural Language Toolkit?"
   ]
  },
  {
   "cell_type": "markdown",
   "metadata": {},
   "source": [
    "### How to install NLTK on your local machine\n",
    "\n",
    "Both sets of instructions below assume you already have Python installed. These instructions are taken directly from [http://www.nltk.org/install.html](http://www.nltk.org/install.html).\n",
    "\n",
    "**Mac/Unix**\n",
    "\n",
    "From the terminal:\n",
    "1. Install NLTK: run `pip install -U nltk`\n",
    "2. Test installation: run `python` then type `import nltk`\n",
    "\n",
    "**Windows**\n",
    "\n",
    "1. Install NLTK: [http://pypi.python.org/pypi/nltk](http://pypi.python.org/pypi/nltk)\n",
    "2. Test installation: `Start>Python35`, then type `import nltk`"
   ]
  },
  {
   "cell_type": "markdown",
   "metadata": {},
   "source": [
    "### Download NLTK data"
   ]
  },
  {
   "cell_type": "code",
   "execution_count": null,
   "metadata": {},
   "outputs": [
    {
     "name": "stdout",
     "output_type": "stream",
     "text": [
      "showing info https://raw.githubusercontent.com/nltk/nltk_data/gh-pages/index.xml\n"
     ]
    }
   ],
   "source": [
    "import nltk\n",
    "nltk.download()"
   ]
  },
  {
   "cell_type": "code",
   "execution_count": null,
   "metadata": {},
   "outputs": [],
   "source": [
    "dir(nltk)"
   ]
  },
  {
   "cell_type": "markdown",
   "metadata": {},
   "source": [
    "### What can you do with NLTK?"
   ]
  },
  {
   "cell_type": "code",
   "execution_count": null,
   "metadata": {},
   "outputs": [],
   "source": [
    "#these are the stopwords that being used in the dictionary\n",
    "\n",
    "from nltk.corpus import stopwords\n",
    "\n",
    "stopwords.words('english')[0:500:50]"
   ]
  },
  {
   "cell_type": "code",
   "execution_count": null,
   "metadata": {},
   "outputs": [],
   "source": [
    "#read the text data with the help of the tsv file in the dataset\n",
    "#so the best way to read is in the juypter notebook, because it is not being read in this form the google colab\n",
    "rawData = open(\"SMSSpamCollection.tsv\").read()"
   ]
  },
  {
   "cell_type": "code",
   "execution_count": null,
   "metadata": {},
   "outputs": [],
   "source": [
    "#print the raw data\n",
    "rawData[0:500]"
   ]
  },
  {
   "cell_type": "code",
   "execution_count": null,
   "metadata": {},
   "outputs": [],
   "source": [
    "parsedData = rawData.replace('\\t', '\\n').split('\\n')"
   ]
  },
  {
   "cell_type": "code",
   "execution_count": null,
   "metadata": {},
   "outputs": [],
   "source": [
    "parsedData[0:7]"
   ]
  },
  {
   "cell_type": "code",
   "execution_count": null,
   "metadata": {},
   "outputs": [],
   "source": [
    "labelList = parsedData[0::2]#finding out the label of the text dataset\n",
    "#by this function we means that start from the o and go to the end and split it by 2\n",
    "textList = parsedData[1::2]#finding out the text of the text document\n",
    "#in this way we are splitting the whole list and taking the valus of the 2 in the secound position\n"
   ]
  },
  {
   "cell_type": "code",
   "execution_count": null,
   "metadata": {},
   "outputs": [],
   "source": [
    "print(labelList[0:5])\n",
    "print(textList[0:5])"
   ]
  },
  {
   "cell_type": "code",
   "execution_count": null,
   "metadata": {},
   "outputs": [],
   "source": [
    "import pandas as pd\n",
    "\n",
    "#now we are making the dataset form the dataset that we have seperated in the previous example\n",
    "fullcorpus = pd.DataFrame({\n",
    "    'label' : labelList,\n",
    "    'body_list' : textList\n",
    "})\n",
    "\n",
    "fullcorpus.head()"
   ]
  },
  {
   "cell_type": "code",
   "execution_count": null,
   "metadata": {},
   "outputs": [],
   "source": [
    "print(len(labelList))\n",
    "print(len(textList))"
   ]
  },
  {
   "cell_type": "code",
   "execution_count": null,
   "metadata": {},
   "outputs": [],
   "source": [
    "print(labelList[-5:])\n",
    "#there is the last one that is irrelavant to the model \n",
    "#and that entry is creating the problem in making the dataframe"
   ]
  },
  {
   "cell_type": "code",
   "execution_count": null,
   "metadata": {},
   "outputs": [],
   "source": [
    "import pandas as pd\n",
    "\n",
    "#now we are making the dataset form the dataset that we have seperated in the previous example\n",
    "fullcorpus = pd.DataFrame({\n",
    "    'label' : labelList[:-1],\n",
    "    'body_list' : textList\n",
    "})\n",
    "\n",
    "fullcorpus.head()"
   ]
  },
  {
   "cell_type": "code",
   "execution_count": null,
   "metadata": {},
   "outputs": [],
   "source": [
    "fullcorpus = pd.read_csv(\"SMSSpamCollection.tsv\", sep=\"\\t\",header= None)\n",
    "fullcorpus.head()"
   ]
  },
  {
   "cell_type": "code",
   "execution_count": null,
   "metadata": {},
   "outputs": [],
   "source": [
    "#now that is the joke what\n",
    "#I have done in the past couple of code can be done with the one line of code"
   ]
  },
  {
   "cell_type": "code",
   "execution_count": null,
   "metadata": {},
   "outputs": [],
   "source": [
    "fullcorpus.columns = ['label','body_list']\n",
    "\n",
    "fullcorpus.head()"
   ]
  },
  {
   "cell_type": "code",
   "execution_count": null,
   "metadata": {},
   "outputs": [],
   "source": [
    "#finding out what is the shape of the dataset\n",
    "fullcorpus.shape"
   ]
  },
  {
   "cell_type": "code",
   "execution_count": null,
   "metadata": {},
   "outputs": [],
   "source": [
    "print(\"Input data has {} rows and {} column\".format(len(fullcorpus),len(fullcorpus.columns)))"
   ]
  },
  {
   "cell_type": "code",
   "execution_count": null,
   "metadata": {},
   "outputs": [],
   "source": [
    "#find out how many are spam and how many are not spam\n",
    "print(\"Out of {} rows, {} are spam, {} are ham\".format(len(fullcorpus),\n",
    "                                                      len(fullcorpus[fullcorpus['label']=='spam']),\n",
    "                                                      len(fullcorpus[fullcorpus['label']=='ham'])))"
   ]
  },
  {
   "cell_type": "code",
   "execution_count": null,
   "metadata": {},
   "outputs": [],
   "source": [
    "#finding out how much missing data is present there!!!\n",
    "print(\"number of null in label:{}\".format(fullcorpus(fullCorpus['label'].isnull())))"
   ]
  },
  {
   "cell_type": "code",
   "execution_count": null,
   "metadata": {},
   "outputs": [],
   "source": []
  }
 ],
 "metadata": {
  "kernelspec": {
   "display_name": "Python 3",
   "language": "python",
   "name": "python3"
  },
  "language_info": {
   "codemirror_mode": {
    "name": "ipython",
    "version": 3
   },
   "file_extension": ".py",
   "mimetype": "text/x-python",
   "name": "python",
   "nbconvert_exporter": "python",
   "pygments_lexer": "ipython3",
   "version": "3.8.8"
  }
 },
 "nbformat": 4,
 "nbformat_minor": 1
}
